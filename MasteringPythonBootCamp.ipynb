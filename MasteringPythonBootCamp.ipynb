{
  "nbformat": 4,
  "nbformat_minor": 0,
  "metadata": {
    "colab": {
      "provenance": [],
      "collapsed_sections": [
        "UlAtJMuSfGLV",
        "dJstFTsBied6",
        "fk67yEUhlK9o",
        "4fIc2Og-oOJT",
        "ELDw9iz0t9n7",
        "ExBs7uT7xidb",
        "nvNsIKLG06h7",
        "0zKvZeaF5J9y",
        "SlCq1fMM84N3",
        "pxWGWCq8CAFL",
        "AVvzmjtplLfR",
        "DQs-ZsqML78U",
        "WtpK_ZPsOAdS",
        "6SsJ-OGe8s0i",
        "HKPy--PDDbTh",
        "BlE9i4ZA4T7O",
        "yI6IfqjY78pr",
        "RgVzbpqkFhqn",
        "GuayWwnFtW9D",
        "b8B9Nk092WoE",
        "V76UFkb24FRB",
        "fn9kfo8U5rm_",
        "i36d5AZc60xX",
        "5x2qvbPN-gzw",
        "0RAYFm1XBB05",
        "HPOqVXa2E25R",
        "-F7yOEO_Km7C",
        "fAEP9tIqPlPX",
        "0YIiTz44SzMK",
        "juZOX6o4d65O",
        "7leVCPa55UXy",
        "j4Fn3Hk98iL_"
      ],
      "authorship_tag": "ABX9TyOS9pQAY7qhvdnz9Te0F7w3"
    },
    "kernelspec": {
      "name": "python3",
      "display_name": "Python 3"
    },
    "language_info": {
      "name": "python"
    }
  },
  "cells": [
    {
      "cell_type": "markdown",
      "source": [
        "# Membership and Boolean Operators"
      ],
      "metadata": {
        "id": "UlAtJMuSfGLV"
      }
    },
    {
      "cell_type": "code",
      "source": [
        "5 in [2, 4, 5]"
      ],
      "metadata": {
        "colab": {
          "base_uri": "https://localhost:8080/"
        },
        "id": "05i7FEoRfIxk",
        "outputId": "ed10ee89-69b4-48ae-d2ee-72cb60088631"
      },
      "execution_count": null,
      "outputs": [
        {
          "output_type": "execute_result",
          "data": {
            "text/plain": [
              "True"
            ]
          },
          "metadata": {},
          "execution_count": 4
        }
      ]
    },
    {
      "cell_type": "code",
      "source": [
        "5 not in [2,3,4,5,7,8]"
      ],
      "metadata": {
        "colab": {
          "base_uri": "https://localhost:8080/"
        },
        "id": "UAp52IcsfWTm",
        "outputId": "7d58bca7-c100-4648-8a36-48687d1041b4"
      },
      "execution_count": null,
      "outputs": [
        {
          "output_type": "execute_result",
          "data": {
            "text/plain": [
              "False"
            ]
          },
          "metadata": {},
          "execution_count": 6
        }
      ]
    },
    {
      "cell_type": "code",
      "source": [
        "5 < 6 and 4 ==4"
      ],
      "metadata": {
        "colab": {
          "base_uri": "https://localhost:8080/"
        },
        "id": "CnrLevDwfhhC",
        "outputId": "84f5fe1c-98ce-441c-e660-2e594e10aaf8"
      },
      "execution_count": null,
      "outputs": [
        {
          "output_type": "execute_result",
          "data": {
            "text/plain": [
              "True"
            ]
          },
          "metadata": {},
          "execution_count": 7
        }
      ]
    },
    {
      "cell_type": "code",
      "source": [
        "5>6 and 5==5"
      ],
      "metadata": {
        "colab": {
          "base_uri": "https://localhost:8080/"
        },
        "id": "fGAj1h9IfoAZ",
        "outputId": "24a29765-0066-4a2c-9f90-78ac84d10e6d"
      },
      "execution_count": null,
      "outputs": [
        {
          "output_type": "execute_result",
          "data": {
            "text/plain": [
              "False"
            ]
          },
          "metadata": {},
          "execution_count": 8
        }
      ]
    },
    {
      "cell_type": "markdown",
      "source": [
        "# Input-Output Function and Comments"
      ],
      "metadata": {
        "id": "dJstFTsBied6"
      }
    },
    {
      "cell_type": "code",
      "source": [
        "input(\"Please enter your name: \")"
      ],
      "metadata": {
        "colab": {
          "base_uri": "https://localhost:8080/",
          "height": 52
        },
        "id": "zn7FxTXAfrwl",
        "outputId": "0ac67912-92a8-4549-a11b-4133d6e51ae9"
      },
      "execution_count": null,
      "outputs": [
        {
          "name": "stdout",
          "output_type": "stream",
          "text": [
            "Please enter your name: Physiwell Maume\n"
          ]
        },
        {
          "output_type": "execute_result",
          "data": {
            "text/plain": [
              "'Physiwell Maume'"
            ],
            "application/vnd.google.colaboratory.intrinsic+json": {
              "type": "string"
            }
          },
          "metadata": {},
          "execution_count": 10
        }
      ]
    },
    {
      "cell_type": "code",
      "source": [
        "#Sample comment haha\n",
        "#\"\"\"hey\n",
        "#this is tripple line comment\"\"\""
      ],
      "metadata": {
        "colab": {
          "base_uri": "https://localhost:8080/",
          "height": 35
        },
        "id": "JxlIY7uHj-0_",
        "outputId": "72ccc7d5-1027-4c61-b99a-be4863a87711"
      },
      "execution_count": null,
      "outputs": [
        {
          "output_type": "execute_result",
          "data": {
            "text/plain": [
              "'hey\\nthis is tripple line comment'"
            ],
            "application/vnd.google.colaboratory.intrinsic+json": {
              "type": "string"
            }
          },
          "metadata": {},
          "execution_count": 15
        }
      ]
    },
    {
      "cell_type": "markdown",
      "source": [
        "#Control Structures"
      ],
      "metadata": {
        "id": "fk67yEUhlK9o"
      }
    },
    {
      "cell_type": "code",
      "source": [
        "var = int(input(\"Enter an integer: \"))\n",
        "if var < 10:\n",
        "    print(\"This is less than 10\")\n",
        "else:\n",
        "    print(\"This is greater than 10\")"
      ],
      "metadata": {
        "colab": {
          "base_uri": "https://localhost:8080/"
        },
        "id": "eY8jk8cqlM4g",
        "outputId": "31091037-5a39-43cb-8329-9a9c76f4492e"
      },
      "execution_count": null,
      "outputs": [
        {
          "output_type": "stream",
          "name": "stdout",
          "text": [
            "Enter an integer: 5\n",
            "This is less than 10\n"
          ]
        }
      ]
    },
    {
      "cell_type": "code",
      "source": [
        "var2 = 0\n",
        "while var2 < 10:\n",
        "    print(f\"Value {var2} is less than 10\")\n",
        "    var2 += 1"
      ],
      "metadata": {
        "colab": {
          "base_uri": "https://localhost:8080/"
        },
        "id": "haVT1NAunBg3",
        "outputId": "54712285-4014-4796-cded-fdee1165bc8b"
      },
      "execution_count": null,
      "outputs": [
        {
          "output_type": "stream",
          "name": "stdout",
          "text": [
            "Value 0 is less than 10\n",
            "Value 1 is less than 10\n",
            "Value 2 is less than 10\n",
            "Value 3 is less than 10\n",
            "Value 4 is less than 10\n",
            "Value 5 is less than 10\n",
            "Value 6 is less than 10\n",
            "Value 7 is less than 10\n",
            "Value 8 is less than 10\n",
            "Value 9 is less than 10\n"
          ]
        }
      ]
    },
    {
      "cell_type": "markdown",
      "source": [
        "#if-else statement"
      ],
      "metadata": {
        "id": "4fIc2Og-oOJT"
      }
    },
    {
      "cell_type": "code",
      "source": [
        "#Program to determine pass or fail\n",
        "marks = int(input(\"Enter your marks in maths: \"))\n",
        "if marks == 100:\n",
        "    print(\"You aced the exam\")\n",
        "elif marks >= 50:\n",
        "    print(\"You passed the exam\")\n",
        "else:\n",
        "    print(\"Fail\")"
      ],
      "metadata": {
        "colab": {
          "base_uri": "https://localhost:8080/"
        },
        "id": "bRp5s-PyoSIo",
        "outputId": "630d9857-c772-4a33-b8e4-d2bc4125fab5"
      },
      "execution_count": null,
      "outputs": [
        {
          "output_type": "stream",
          "name": "stdout",
          "text": [
            "Enter your marks in maths: 34\n",
            "Fail\n"
          ]
        }
      ]
    },
    {
      "cell_type": "markdown",
      "source": [
        "# Iterative Control Statements\n",
        "# for and while loop"
      ],
      "metadata": {
        "id": "ELDw9iz0t9n7"
      }
    },
    {
      "cell_type": "code",
      "source": [
        "for letter in \"python\":\n",
        "  print(\"Char is: \", letter)"
      ],
      "metadata": {
        "colab": {
          "base_uri": "https://localhost:8080/"
        },
        "id": "4IAmIMNFuFdv",
        "outputId": "11d754d9-0017-49cd-fb91-1deaa6f08c9d"
      },
      "execution_count": null,
      "outputs": [
        {
          "output_type": "stream",
          "name": "stdout",
          "text": [
            "Char is:  p\n",
            "Char is:  y\n",
            "Char is:  t\n",
            "Char is:  h\n",
            "Char is:  o\n",
            "Char is:  n\n"
          ]
        }
      ]
    },
    {
      "cell_type": "code",
      "source": [
        "for num in [1,2,3,4,5,6,7,8,9,10]:\n",
        "  if num >= 5:\n",
        "    print(f\"{num} is greater than 5\")\n",
        "    break\n",
        "  else:\n",
        "    print(f\"{num} is less than 5\")\n",
        "    continue\n",
        "  print(f\"{num} is: \", num)"
      ],
      "metadata": {
        "colab": {
          "base_uri": "https://localhost:8080/"
        },
        "id": "f05Xw46SuxqY",
        "outputId": "0a0faaec-b0f4-45f9-b01c-d0783944dcd7"
      },
      "execution_count": null,
      "outputs": [
        {
          "output_type": "stream",
          "name": "stdout",
          "text": [
            "1 is less than 5\n",
            "2 is less than 5\n",
            "3 is less than 5\n",
            "4 is less than 5\n",
            "5 is greater than 5\n"
          ]
        }
      ]
    },
    {
      "cell_type": "code",
      "source": [
        "#While loop example\n",
        "count = 0\n",
        "while count <= 5:\n",
        "  print(\"Count is: \",count)\n",
        "  count += 1"
      ],
      "metadata": {
        "colab": {
          "base_uri": "https://localhost:8080/"
        },
        "id": "ndTOuMkIvqll",
        "outputId": "1c063904-4988-4f44-f72b-3a29d8f20240"
      },
      "execution_count": null,
      "outputs": [
        {
          "output_type": "stream",
          "name": "stdout",
          "text": [
            "Count is:  0\n",
            "Count is:  1\n",
            "Count is:  2\n",
            "Count is:  3\n",
            "Count is:  4\n",
            "Count is:  5\n"
          ]
        }
      ]
    },
    {
      "cell_type": "markdown",
      "source": [
        "# Loop Controls: Break and Continue"
      ],
      "metadata": {
        "id": "ExBs7uT7xidb"
      }
    },
    {
      "cell_type": "code",
      "source": [
        "#This is example for break statement\n",
        "count = 0\n",
        "while count <=5:\n",
        "  if count ==3:\n",
        "    break\n",
        "  else:\n",
        "    print(\"Count num is: \", count)\n",
        "    count += 1\n",
        "print(\"End of the loop\")"
      ],
      "metadata": {
        "colab": {
          "base_uri": "https://localhost:8080/"
        },
        "id": "tGSLoS8NxoAN",
        "outputId": "d5adae7b-bf64-4af7-dc5d-3bbba6518f1c"
      },
      "execution_count": null,
      "outputs": [
        {
          "output_type": "stream",
          "name": "stdout",
          "text": [
            "Count num is:  0\n",
            "Count num is:  1\n",
            "Count num is:  2\n",
            "End of the loop\n"
          ]
        }
      ]
    },
    {
      "cell_type": "code",
      "source": [
        "#Example for break\n",
        "name = \"Physiwell\"\n",
        "\n",
        "for letter in name:\n",
        "  if letter == \"l\":\n",
        "    break\n",
        "  else:\n",
        "    print(\"Letter is: \", letter)"
      ],
      "metadata": {
        "colab": {
          "base_uri": "https://localhost:8080/"
        },
        "id": "evkO9Uv0yF4z",
        "outputId": "f905eb6e-d8d9-4925-dbdd-002fe0ec6628"
      },
      "execution_count": null,
      "outputs": [
        {
          "output_type": "stream",
          "name": "stdout",
          "text": [
            "Letter is:  P\n",
            "Letter is:  h\n",
            "Letter is:  y\n",
            "Letter is:  s\n",
            "Letter is:  i\n",
            "Letter is:  w\n",
            "Letter is:  e\n"
          ]
        }
      ]
    },
    {
      "cell_type": "code",
      "source": [
        "#Example for break statement\n",
        "for letter in \"Physiwell\":\n",
        "  if letter == \"l\":\n",
        "    continue\n",
        "  else:\n",
        "    print(\"Letter is: \", letter)"
      ],
      "metadata": {
        "colab": {
          "base_uri": "https://localhost:8080/"
        },
        "id": "vZgXTz-3y91U",
        "outputId": "82533301-02b3-4b5f-f88d-b41381287467"
      },
      "execution_count": null,
      "outputs": [
        {
          "output_type": "stream",
          "name": "stdout",
          "text": [
            "Letter is:  P\n",
            "Letter is:  h\n",
            "Letter is:  y\n",
            "Letter is:  s\n",
            "Letter is:  i\n",
            "Letter is:  w\n",
            "Letter is:  e\n"
          ]
        }
      ]
    },
    {
      "cell_type": "code",
      "source": [
        "num = 10\n",
        "while num > 0:\n",
        "  num -= 1\n",
        "  if num == 5:\n",
        "    continue\n",
        "  print(\"Number is: \", num)"
      ],
      "metadata": {
        "colab": {
          "base_uri": "https://localhost:8080/"
        },
        "id": "j9bhfxzozmih",
        "outputId": "ab4c1445-4d36-43f3-f7e7-b419b0f802b7"
      },
      "execution_count": null,
      "outputs": [
        {
          "output_type": "stream",
          "name": "stdout",
          "text": [
            "Number is:  9\n",
            "Number is:  8\n",
            "Number is:  7\n",
            "Number is:  6\n",
            "Number is:  4\n",
            "Number is:  3\n",
            "Number is:  2\n",
            "Number is:  1\n",
            "Number is:  0\n"
          ]
        }
      ]
    },
    {
      "cell_type": "markdown",
      "source": [
        "# Lists (mutable)"
      ],
      "metadata": {
        "id": "nvNsIKLG06h7"
      }
    },
    {
      "cell_type": "code",
      "source": [
        "animals = [\"lion\", \"antelope\", \"monkey\"]\n",
        "animals[0]\n",
        "animals[1:]"
      ],
      "metadata": {
        "colab": {
          "base_uri": "https://localhost:8080/"
        },
        "id": "4ApdcTZY073n",
        "outputId": "ab7e21b0-d873-4152-aa21-109c2391a05c"
      },
      "execution_count": null,
      "outputs": [
        {
          "output_type": "execute_result",
          "data": {
            "text/plain": [
              "['antelope', 'monkey']"
            ]
          },
          "metadata": {},
          "execution_count": 50
        }
      ]
    },
    {
      "cell_type": "code",
      "source": [
        "for num in [10, 20, 30, 40]:\n",
        "  print(num)"
      ],
      "metadata": {
        "colab": {
          "base_uri": "https://localhost:8080/"
        },
        "id": "FQ6N5CTe4-PY",
        "outputId": "8ad9b0f0-c0f7-476d-d6c9-ef1d4b29c136"
      },
      "execution_count": null,
      "outputs": [
        {
          "output_type": "stream",
          "name": "stdout",
          "text": [
            "10\n",
            "20\n",
            "30\n",
            "40\n"
          ]
        }
      ]
    },
    {
      "cell_type": "markdown",
      "source": [
        "#List Operations"
      ],
      "metadata": {
        "id": "0zKvZeaF5J9y"
      }
    },
    {
      "cell_type": "code",
      "source": [
        "#Replace\n",
        "myList = [10, 20, 40, 5.7]\n",
        "myList[3] = 80\n",
        "myList"
      ],
      "metadata": {
        "colab": {
          "base_uri": "https://localhost:8080/"
        },
        "id": "573sMpMP5Lf6",
        "outputId": "6274fdc9-ad9b-4524-fb8b-a5874af92b10"
      },
      "execution_count": null,
      "outputs": [
        {
          "output_type": "execute_result",
          "data": {
            "text/plain": [
              "[10, 20, 40, 80]"
            ]
          },
          "metadata": {},
          "execution_count": 56
        }
      ]
    },
    {
      "cell_type": "code",
      "source": [
        "#Insert\n",
        "myList.insert(2, 30)\n",
        "myList"
      ],
      "metadata": {
        "colab": {
          "base_uri": "https://localhost:8080/"
        },
        "id": "EklbTic55pVS",
        "outputId": "8df4889b-5d2c-4a7a-bbe5-2b6a4dcf2aa8"
      },
      "execution_count": null,
      "outputs": [
        {
          "output_type": "execute_result",
          "data": {
            "text/plain": [
              "[10, 20, 30, 30, 40, 80]"
            ]
          },
          "metadata": {},
          "execution_count": 58
        }
      ]
    },
    {
      "cell_type": "code",
      "source": [
        "#Sort\n",
        "myList.sort()\n",
        "myList"
      ],
      "metadata": {
        "colab": {
          "base_uri": "https://localhost:8080/"
        },
        "id": "YDddqN-W6PlB",
        "outputId": "3f82a90d-13fb-409b-a2b7-b9b22890d906"
      },
      "execution_count": null,
      "outputs": [
        {
          "output_type": "execute_result",
          "data": {
            "text/plain": [
              "[10, 20, 30, 30, 40, 80]"
            ]
          },
          "metadata": {},
          "execution_count": 60
        }
      ]
    },
    {
      "cell_type": "code",
      "source": [
        "del myList[2]\n",
        "myList"
      ],
      "metadata": {
        "colab": {
          "base_uri": "https://localhost:8080/"
        },
        "id": "F4miESkn7K0x",
        "outputId": "ff5068f0-9d1f-4132-92fe-e70c90ed69c1"
      },
      "execution_count": null,
      "outputs": [
        {
          "output_type": "execute_result",
          "data": {
            "text/plain": [
              "[10, 20, 40, 80]"
            ]
          },
          "metadata": {},
          "execution_count": 62
        }
      ]
    },
    {
      "cell_type": "code",
      "source": [
        "#Append\n",
        "animals.append(\"tiger\")\n",
        "animals"
      ],
      "metadata": {
        "colab": {
          "base_uri": "https://localhost:8080/"
        },
        "id": "GEQTvONa7fu-",
        "outputId": "044ffd8e-277d-42f5-c2fb-6affe0b5eef6"
      },
      "execution_count": null,
      "outputs": [
        {
          "output_type": "execute_result",
          "data": {
            "text/plain": [
              "['lion', 'antelope', 'monkey', 'tiger', 'tiger']"
            ]
          },
          "metadata": {},
          "execution_count": 64
        }
      ]
    },
    {
      "cell_type": "code",
      "source": [
        "#Reverse\n",
        "animals.reverse()\n",
        "animals"
      ],
      "metadata": {
        "colab": {
          "base_uri": "https://localhost:8080/"
        },
        "id": "yHgGieIP7jgT",
        "outputId": "b4f6a57f-cf74-4065-a3dd-76ee4864fc11"
      },
      "execution_count": null,
      "outputs": [
        {
          "output_type": "execute_result",
          "data": {
            "text/plain": [
              "['tiger', 'tiger', 'monkey', 'antelope', 'lion']"
            ]
          },
          "metadata": {},
          "execution_count": 67
        }
      ]
    },
    {
      "cell_type": "markdown",
      "source": [
        "# Tuples (immutable)\n"
      ],
      "metadata": {
        "id": "SlCq1fMM84N3"
      }
    },
    {
      "cell_type": "code",
      "source": [
        "animals = (\"lion\", \"antelope\", \"monkey\")\n",
        "animals[0]"
      ],
      "metadata": {
        "colab": {
          "base_uri": "https://localhost:8080/",
          "height": 35
        },
        "id": "-yyh7I8i85V8",
        "outputId": "b5d2de7b-f40d-485e-a93b-37499da0a987"
      },
      "execution_count": null,
      "outputs": [
        {
          "output_type": "execute_result",
          "data": {
            "text/plain": [
              "'lion'"
            ],
            "application/vnd.google.colaboratory.intrinsic+json": {
              "type": "string"
            }
          },
          "metadata": {},
          "execution_count": 3
        }
      ]
    },
    {
      "cell_type": "markdown",
      "source": [
        "# Sequences"
      ],
      "metadata": {
        "id": "pxWGWCq8CAFL"
      }
    },
    {
      "cell_type": "code",
      "source": [
        " #Length\n",
        " len(animals)"
      ],
      "metadata": {
        "colab": {
          "base_uri": "https://localhost:8080/"
        },
        "id": "NWTwYyRlCBqR",
        "outputId": "287de64e-73e7-4f75-dd04-2ff795e68c90"
      },
      "execution_count": null,
      "outputs": [
        {
          "output_type": "execute_result",
          "data": {
            "text/plain": [
              "3"
            ]
          },
          "metadata": {},
          "execution_count": 4
        }
      ]
    },
    {
      "cell_type": "code",
      "source": [
        "#Select/Slice\n",
        "animals[1:]"
      ],
      "metadata": {
        "colab": {
          "base_uri": "https://localhost:8080/"
        },
        "id": "rnomA3I1CysK",
        "outputId": "ae2490de-c573-4938-b07f-b3a0da366fba"
      },
      "execution_count": null,
      "outputs": [
        {
          "output_type": "execute_result",
          "data": {
            "text/plain": [
              "('antelope', 'monkey')"
            ]
          },
          "metadata": {},
          "execution_count": 5
        }
      ]
    },
    {
      "cell_type": "code",
      "source": [
        "#count\n",
        "animals.count(\"lion\")"
      ],
      "metadata": {
        "colab": {
          "base_uri": "https://localhost:8080/"
        },
        "id": "RKKuWlrNC6-Y",
        "outputId": "238b51d2-1899-4400-d31b-418e6cc6f1ef"
      },
      "execution_count": null,
      "outputs": [
        {
          "output_type": "execute_result",
          "data": {
            "text/plain": [
              "1"
            ]
          },
          "metadata": {},
          "execution_count": 77
        }
      ]
    },
    {
      "cell_type": "code",
      "source": [
        "#Index\n",
        "animals.index(\"monkey\")"
      ],
      "metadata": {
        "id": "mLASAJowDgiw"
      },
      "execution_count": null,
      "outputs": []
    },
    {
      "cell_type": "markdown",
      "source": [
        "# Functions"
      ],
      "metadata": {
        "id": "AVvzmjtplLfR"
      }
    },
    {
      "cell_type": "code",
      "source": [
        "#Writing a func in python\n",
        "\n",
        "def avg(x, y, z):\n",
        "  return (x+y+z)/3\n",
        "\n",
        "avg(10,20,30)"
      ],
      "metadata": {
        "colab": {
          "base_uri": "https://localhost:8080/"
        },
        "id": "0HfT5GBNlNna",
        "outputId": "95c56f9e-6f41-4382-9513-200d977689df"
      },
      "execution_count": null,
      "outputs": [
        {
          "output_type": "execute_result",
          "data": {
            "text/plain": [
              "20.0"
            ]
          },
          "metadata": {},
          "execution_count": 1
        }
      ]
    },
    {
      "cell_type": "markdown",
      "source": [
        "Global variable"
      ],
      "metadata": {
        "id": "7y3C2l-8vCwJ"
      }
    },
    {
      "cell_type": "code",
      "source": [
        "var = 10\n",
        "\n",
        "def incrmntBy1():\n",
        "  global var\n",
        "  var += 1\n",
        "  return var\n",
        "\n",
        "incrmntBy1()"
      ],
      "metadata": {
        "colab": {
          "base_uri": "https://localhost:8080/"
        },
        "id": "1A-irZvMvD_Q",
        "outputId": "7b0e1422-4dee-43f4-c647-702ed8b4b913"
      },
      "execution_count": null,
      "outputs": [
        {
          "output_type": "execute_result",
          "data": {
            "text/plain": [
              "11"
            ]
          },
          "metadata": {},
          "execution_count": 11
        }
      ]
    },
    {
      "cell_type": "markdown",
      "source": [
        "Lambda Functions"
      ],
      "metadata": {
        "id": "8b1GVvS7vlvN"
      }
    },
    {
      "cell_type": "code",
      "source": [
        "sum = lambda x, y, z: x+y+z\n",
        "sum(10,20,30)"
      ],
      "metadata": {
        "colab": {
          "base_uri": "https://localhost:8080/"
        },
        "id": "byh3MSlJvnek",
        "outputId": "8e9b6cb8-8ced-49fc-8dcb-7f23e1acc8a2"
      },
      "execution_count": null,
      "outputs": [
        {
          "output_type": "execute_result",
          "data": {
            "text/plain": [
              "60"
            ]
          },
          "metadata": {},
          "execution_count": 12
        }
      ]
    },
    {
      "cell_type": "code",
      "source": [
        "def func1(*args):\n",
        "  for num in args:\n",
        "    print(num)\n",
        "\n",
        "func1(10,20,30)"
      ],
      "metadata": {
        "colab": {
          "base_uri": "https://localhost:8080/"
        },
        "id": "AsJyLZ_cwXtY",
        "outputId": "192df61b-e312-4111-9a93-018b7a0af9da"
      },
      "execution_count": null,
      "outputs": [
        {
          "output_type": "stream",
          "name": "stdout",
          "text": [
            "10\n",
            "20\n",
            "30\n"
          ]
        }
      ]
    },
    {
      "cell_type": "code",
      "source": [
        "import math\n",
        "print(math.ceil(-2.3))\n",
        "print(math.floor(-2.3))\n",
        "print(math.trunc(-2.3))"
      ],
      "metadata": {
        "colab": {
          "base_uri": "https://localhost:8080/"
        },
        "id": "CHp6HKC4yeYZ",
        "outputId": "bb9ae778-e1b9-4857-9321-219219f852e2"
      },
      "execution_count": null,
      "outputs": [
        {
          "output_type": "stream",
          "name": "stdout",
          "text": [
            "-2\n",
            "-3\n",
            "-2\n"
          ]
        }
      ]
    },
    {
      "cell_type": "code",
      "source": [
        "name = \"Physiwell\"\n",
        "name.startswith(\"P\")\n",
        "print(name.index(\"w\"))\n",
        "print(name.find(\"w\"))\n",
        "print(name.swapcase())"
      ],
      "metadata": {
        "colab": {
          "base_uri": "https://localhost:8080/"
        },
        "id": "17pixdgPCGD5",
        "outputId": "218c040f-50ed-4f01-f4d5-a300e06a8694"
      },
      "execution_count": null,
      "outputs": [
        {
          "output_type": "stream",
          "name": "stdout",
          "text": [
            "5\n",
            "5\n",
            "pHYSIWELL\n"
          ]
        }
      ]
    },
    {
      "cell_type": "code",
      "source": [
        "#strip, lstrip and rstrip\n",
        "name = \"  Physiwell  \"\n",
        "print(name.strip())\n",
        "print(name.lstrip())\n",
        "print(name.rstrip())\n",
        "print(len(name))\n",
        "print(len(name.strip()))"
      ],
      "metadata": {
        "colab": {
          "base_uri": "https://localhost:8080/"
        },
        "id": "wKj1_V3ZGvVn",
        "outputId": "3d62bf38-1c12-4bec-ef57-a4b80c04be50"
      },
      "execution_count": null,
      "outputs": [
        {
          "output_type": "stream",
          "name": "stdout",
          "text": [
            "Physiwell\n",
            "Physiwell  \n",
            "  Physiwell\n",
            "13\n",
            "9\n"
          ]
        }
      ]
    },
    {
      "cell_type": "markdown",
      "source": [
        "#Modules"
      ],
      "metadata": {
        "id": "DQs-ZsqML78U"
      }
    },
    {
      "cell_type": "code",
      "source": [
        "import sys\n",
        "sys.path"
      ],
      "metadata": {
        "colab": {
          "base_uri": "https://localhost:8080/"
        },
        "id": "mVmQuZF8L9ZS",
        "outputId": "80960d46-ca2d-4b63-fe6c-5b6b93122276"
      },
      "execution_count": null,
      "outputs": [
        {
          "output_type": "execute_result",
          "data": {
            "text/plain": [
              "['/content',\n",
              " '/env/python',\n",
              " '/usr/lib/python310.zip',\n",
              " '/usr/lib/python3.10',\n",
              " '/usr/lib/python3.10/lib-dynload',\n",
              " '',\n",
              " '/usr/local/lib/python3.10/dist-packages',\n",
              " '/usr/lib/python3/dist-packages',\n",
              " '/usr/local/lib/python3.10/dist-packages/IPython/extensions',\n",
              " '/usr/local/lib/python3.10/dist-packages/setuptools/_vendor',\n",
              " '/root/.ipython']"
            ]
          },
          "metadata": {},
          "execution_count": 31
        }
      ]
    },
    {
      "cell_type": "markdown",
      "source": [
        "#Dictionaries"
      ],
      "metadata": {
        "id": "WtpK_ZPsOAdS"
      }
    },
    {
      "cell_type": "code",
      "source": [
        "temp = {}\n",
        "temp['sun'] = 33.4\n",
        "temp['mon'] = 45\n",
        "temp['tue'] = 30\n",
        "\n",
        "temp"
      ],
      "metadata": {
        "colab": {
          "base_uri": "https://localhost:8080/"
        },
        "id": "GovGDNQGOCCp",
        "outputId": "24d750b0-8215-493a-dadf-a3691cbf33b8"
      },
      "execution_count": null,
      "outputs": [
        {
          "output_type": "execute_result",
          "data": {
            "text/plain": [
              "{'sun': 33.4, 'mon': 45, 'tue': 30}"
            ]
          },
          "metadata": {},
          "execution_count": 33
        }
      ]
    },
    {
      "cell_type": "code",
      "source": [
        "#Another way of creating a dictionary\n",
        "mail_address = {'physiwell': 'something@gmail.com', 'blessing': 'something2@gmail.com'}\n",
        "mail_address"
      ],
      "metadata": {
        "colab": {
          "base_uri": "https://localhost:8080/"
        },
        "id": "gEdYiSSLOn4V",
        "outputId": "462f88ca-4672-4f53-9a00-126618568feb"
      },
      "execution_count": null,
      "outputs": [
        {
          "output_type": "execute_result",
          "data": {
            "text/plain": [
              "{'physiwell': 'something@gmail.com', 'blessing': 'something2@gmail.com'}"
            ]
          },
          "metadata": {},
          "execution_count": 35
        }
      ]
    },
    {
      "cell_type": "code",
      "source": [
        "#Accessing keys\n",
        "mail_address.keys()"
      ],
      "metadata": {
        "colab": {
          "base_uri": "https://localhost:8080/"
        },
        "id": "_6S4rMOmO9SG",
        "outputId": "d8724983-8178-40af-9e2c-b0ea1d08b43b"
      },
      "execution_count": null,
      "outputs": [
        {
          "output_type": "execute_result",
          "data": {
            "text/plain": [
              "dict_keys(['physiwell', 'blessing'])"
            ]
          },
          "metadata": {},
          "execution_count": 37
        }
      ]
    },
    {
      "cell_type": "code",
      "source": [
        "#Accessing values\n",
        "mail_address.values()"
      ],
      "metadata": {
        "colab": {
          "base_uri": "https://localhost:8080/"
        },
        "id": "F2fIkAPHO_kK",
        "outputId": "2c87cbee-537a-44c0-8013-398b5ea2ef0c"
      },
      "execution_count": null,
      "outputs": [
        {
          "output_type": "execute_result",
          "data": {
            "text/plain": [
              "dict_values(['something@gmail.com', 'something2@gmail.com'])"
            ]
          },
          "metadata": {},
          "execution_count": 39
        }
      ]
    },
    {
      "cell_type": "code",
      "source": [
        "#Accessing value using key\n",
        "mail_address['physiwell']"
      ],
      "metadata": {
        "colab": {
          "base_uri": "https://localhost:8080/",
          "height": 35
        },
        "id": "lxYjZ8_bPCpA",
        "outputId": "f5de63ee-8489-4559-8359-c4be43b9bac2"
      },
      "execution_count": null,
      "outputs": [
        {
          "output_type": "execute_result",
          "data": {
            "text/plain": [
              "'something@gmail.com'"
            ],
            "application/vnd.google.colaboratory.intrinsic+json": {
              "type": "string"
            }
          },
          "metadata": {},
          "execution_count": 43
        }
      ]
    },
    {
      "cell_type": "code",
      "source": [
        "my_dict = {1: 'apple', 2: 'ball'}\n",
        "my_dict.values()"
      ],
      "metadata": {
        "id": "fMGsfnm2PacK",
        "colab": {
          "base_uri": "https://localhost:8080/"
        },
        "outputId": "4f09b850-cda2-479a-84f7-ef8f95276d20"
      },
      "execution_count": null,
      "outputs": [
        {
          "output_type": "execute_result",
          "data": {
            "text/plain": [
              "dict_values(['apple', 'ball'])"
            ]
          },
          "metadata": {},
          "execution_count": 4
        }
      ]
    },
    {
      "cell_type": "code",
      "source": [
        "#Accessing values\n",
        "my_dict[2]"
      ],
      "metadata": {
        "colab": {
          "base_uri": "https://localhost:8080/",
          "height": 35
        },
        "id": "_5vInikzcBEh",
        "outputId": "453ca88a-6064-4e22-af6e-768ef119ed8d"
      },
      "execution_count": null,
      "outputs": [
        {
          "output_type": "execute_result",
          "data": {
            "text/plain": [
              "'ball'"
            ],
            "application/vnd.google.colaboratory.intrinsic+json": {
              "type": "string"
            }
          },
          "metadata": {},
          "execution_count": 6
        }
      ]
    },
    {
      "cell_type": "code",
      "source": [
        "my_dict.get(1)"
      ],
      "metadata": {
        "colab": {
          "base_uri": "https://localhost:8080/",
          "height": 35
        },
        "id": "4nf8A7hecYYi",
        "outputId": "a9b58f52-c3e1-46ce-8741-0b584eb36d1c"
      },
      "execution_count": null,
      "outputs": [
        {
          "output_type": "execute_result",
          "data": {
            "text/plain": [
              "'apple'"
            ],
            "application/vnd.google.colaboratory.intrinsic+json": {
              "type": "string"
            }
          },
          "metadata": {},
          "execution_count": 8
        }
      ]
    },
    {
      "cell_type": "code",
      "source": [
        "#adding values\n",
        "my_dict[3] = 'cat'\n",
        "my_dict"
      ],
      "metadata": {
        "colab": {
          "base_uri": "https://localhost:8080/"
        },
        "id": "ZHwUCajBcvLv",
        "outputId": "8f92d3b1-139d-4506-c8a4-e6cc9b497cbe"
      },
      "execution_count": null,
      "outputs": [
        {
          "output_type": "execute_result",
          "data": {
            "text/plain": [
              "{1: 'apple', 2: 'ball', 3: 'cat'}"
            ]
          },
          "metadata": {},
          "execution_count": 10
        }
      ]
    },
    {
      "cell_type": "code",
      "source": [
        "my_dict[2]=\"bat\"\n",
        "my_dict"
      ],
      "metadata": {
        "colab": {
          "base_uri": "https://localhost:8080/"
        },
        "id": "_sJqbsXNc-DN",
        "outputId": "87c69401-4478-4276-e305-8b7a47d82cb8"
      },
      "execution_count": null,
      "outputs": [
        {
          "output_type": "execute_result",
          "data": {
            "text/plain": [
              "{1: 'apple', 2: 'bat', 3: 'cat'}"
            ]
          },
          "metadata": {},
          "execution_count": 12
        }
      ]
    },
    {
      "cell_type": "code",
      "source": [
        "#Getting the length of dictionary\n",
        "len(my_dict)"
      ],
      "metadata": {
        "colab": {
          "base_uri": "https://localhost:8080/"
        },
        "id": "mqVBm5zGdFxZ",
        "outputId": "9527d28d-4f58-4bb5-b503-d6f4b00adc39"
      },
      "execution_count": null,
      "outputs": [
        {
          "output_type": "execute_result",
          "data": {
            "text/plain": [
              "3"
            ]
          },
          "metadata": {},
          "execution_count": 13
        }
      ]
    },
    {
      "cell_type": "code",
      "source": [
        "list = [1,2,3,4,5]\n",
        "dict.fromkeys(list)"
      ],
      "metadata": {
        "colab": {
          "base_uri": "https://localhost:8080/"
        },
        "id": "rTjOYuBadKVK",
        "outputId": "fef26d39-f7ef-4e6d-892a-63f9c3f175ac"
      },
      "execution_count": null,
      "outputs": [
        {
          "output_type": "execute_result",
          "data": {
            "text/plain": [
              "{1: None, 2: None, 3: None, 4: None, 5: None}"
            ]
          },
          "metadata": {},
          "execution_count": 16
        }
      ]
    },
    {
      "cell_type": "code",
      "source": [
        "{}.fromkeys(range(1,7),10)"
      ],
      "metadata": {
        "colab": {
          "base_uri": "https://localhost:8080/"
        },
        "id": "gsMBmAkxfTm0",
        "outputId": "21db7ae8-b0ef-4d4c-c2d6-eee83b4e6074"
      },
      "execution_count": null,
      "outputs": [
        {
          "output_type": "execute_result",
          "data": {
            "text/plain": [
              "{1: 10, 2: 10, 3: 10, 4: 10, 5: 10, 6: 10}"
            ]
          },
          "metadata": {},
          "execution_count": 19
        }
      ]
    },
    {
      "cell_type": "code",
      "source": [
        "my_dict[3] = 'cat'\n",
        "del my_dict[3]\n",
        "my_dict"
      ],
      "metadata": {
        "colab": {
          "base_uri": "https://localhost:8080/"
        },
        "id": "js0aTaUDuQGo",
        "outputId": "ac60ab92-6889-438a-f993-d0b2cf372be7"
      },
      "execution_count": null,
      "outputs": [
        {
          "output_type": "execute_result",
          "data": {
            "text/plain": [
              "{1: 'apple', 2: 'bat'}"
            ]
          },
          "metadata": {},
          "execution_count": 28
        }
      ]
    },
    {
      "cell_type": "markdown",
      "source": [
        "# Exception Handling"
      ],
      "metadata": {
        "id": "6SsJ-OGe8s0i"
      }
    },
    {
      "cell_type": "code",
      "source": [
        "#Handling exceptions\n",
        "import math\n",
        "input_num = int(input(\"Enter a num: \"))\n",
        "try:\n",
        "  fact = math.factorial(input_num)\n",
        "  print(fact)\n",
        "except ValueError:\n",
        "  print(\"Invalid input\")"
      ],
      "metadata": {
        "colab": {
          "base_uri": "https://localhost:8080/"
        },
        "id": "GvV7HgNY8w24",
        "outputId": "5c8445c7-5160-443f-bdbe-e8b5bf3bea69"
      },
      "execution_count": null,
      "outputs": [
        {
          "output_type": "stream",
          "name": "stdout",
          "text": [
            "Enter a num: 4\n",
            "24\n"
          ]
        }
      ]
    },
    {
      "cell_type": "code",
      "source": [
        "import math\n",
        "num = int(input(\"Enter a num: \"))\n",
        "try:\n",
        "  fact = math.factorial(num)\n",
        "  print(fact)\n",
        "except ValueError:\n",
        "  print(\"Invalid input\")\n",
        "finally:\n",
        "  print(\"End of program\")"
      ],
      "metadata": {
        "colab": {
          "base_uri": "https://localhost:8080/"
        },
        "id": "WxIHhdWm_2OH",
        "outputId": "d7febf36-64fb-4ea7-dff8-830c00604e2e"
      },
      "execution_count": null,
      "outputs": [
        {
          "output_type": "stream",
          "name": "stdout",
          "text": [
            "Enter a num: 5\n",
            "120\n",
            "End of program\n"
          ]
        }
      ]
    },
    {
      "cell_type": "markdown",
      "source": [
        "#Object Oriented Programming"
      ],
      "metadata": {
        "id": "HKPy--PDDbTh"
      }
    },
    {
      "cell_type": "code",
      "source": [
        "class person:\n",
        "  def __init__(self, name):\n",
        "    self.name = name\n",
        "\n",
        "  def display(self):\n",
        "    print(\"Hello\", self.name)\n",
        "\n",
        "person1 = person(\"Physiwell\")\n",
        "person1.display()"
      ],
      "metadata": {
        "colab": {
          "base_uri": "https://localhost:8080/"
        },
        "id": "hDDbCbV1Daru",
        "outputId": "af50f00a-6408-4ecd-e07f-20ba388b5549"
      },
      "execution_count": null,
      "outputs": [
        {
          "output_type": "stream",
          "name": "stdout",
          "text": [
            "Hello Physiwell\n"
          ]
        }
      ]
    },
    {
      "cell_type": "code",
      "source": [
        "class student:\n",
        "\n",
        "  college = \"Trinity College\" #class variable\n",
        "\n",
        "  def __init__(self, rollno, name):\n",
        "    self.rollno = rollno\n",
        "    self.name = name\n",
        "\n",
        "  def display(self):\n",
        "    print(\"Student name: \", self.name)\n",
        "    print(\"Student rollno: \", self.rollno)\n",
        "    print(\"College name: \", student.college)\n",
        "\n",
        "student1 = student(1, \"Physiwell\")\n",
        "student1.display()"
      ],
      "metadata": {
        "colab": {
          "base_uri": "https://localhost:8080/"
        },
        "id": "QRGxA1AjtQNd",
        "outputId": "08393d92-7bd0-4928-ec5f-17f030935ce0"
      },
      "execution_count": null,
      "outputs": [
        {
          "output_type": "stream",
          "name": "stdout",
          "text": [
            "Student name:  Physiwell\n",
            "Student rollno:  1\n",
            "College name:  Trinity College\n"
          ]
        }
      ]
    },
    {
      "cell_type": "markdown",
      "source": [
        "##Inheritance"
      ],
      "metadata": {
        "id": "FM69QCImuBLc"
      }
    },
    {
      "cell_type": "code",
      "source": [
        "class animal:\n",
        "  def __init__(self, name):\n",
        "    self.name = name\n",
        "\n",
        "  def display(self):\n",
        "    print(\"Animal name: \", self.name)\n",
        "\n",
        "class dog(animal):\n",
        "  def something(self):\n",
        "    print(\"I am a dog\")\n",
        "\n",
        "dog(\"Pinot\").display()"
      ],
      "metadata": {
        "colab": {
          "base_uri": "https://localhost:8080/"
        },
        "id": "Za19ijAxuDiy",
        "outputId": "8943cfc9-f7cc-4a1c-b78f-858e37a43d9c"
      },
      "execution_count": null,
      "outputs": [
        {
          "output_type": "stream",
          "name": "stdout",
          "text": [
            "Animal name:  Pinot\n"
          ]
        }
      ]
    },
    {
      "cell_type": "markdown",
      "source": [
        "## Encapsulation"
      ],
      "metadata": {
        "id": "-v_MrlWbw9PD"
      }
    },
    {
      "cell_type": "code",
      "source": [
        "class car:\n",
        "  def __init__(self):\n",
        "    self.__updateSoftware()\n",
        "\n",
        "  def drive(self):\n",
        "    print(\"Driving\")\n",
        "\n",
        "  def __updateSoftware(self):\n",
        "    print(\"Updating software\")\n",
        "\n",
        "redcar = car()\n",
        "redcar.drive()"
      ],
      "metadata": {
        "colab": {
          "base_uri": "https://localhost:8080/"
        },
        "id": "IHbikM26w_kE",
        "outputId": "a1376fb3-c115-45a0-be2e-5b8d23003933"
      },
      "execution_count": null,
      "outputs": [
        {
          "output_type": "stream",
          "name": "stdout",
          "text": [
            "Updating software\n",
            "Driving\n"
          ]
        }
      ]
    },
    {
      "cell_type": "markdown",
      "source": [
        "#Time method"
      ],
      "metadata": {
        "id": "BlE9i4ZA4T7O"
      }
    },
    {
      "cell_type": "code",
      "source": [
        "import time\n",
        "time.localtime(time.time())"
      ],
      "metadata": {
        "colab": {
          "base_uri": "https://localhost:8080/"
        },
        "id": "hFXnxey23SfD",
        "outputId": "fb9931fa-fb43-4d5e-920e-27da10b6fd37"
      },
      "execution_count": null,
      "outputs": [
        {
          "output_type": "execute_result",
          "data": {
            "text/plain": [
              "time.struct_time(tm_year=2024, tm_mon=9, tm_mday=5, tm_hour=6, tm_min=33, tm_sec=2, tm_wday=3, tm_yday=249, tm_isdst=0)"
            ]
          },
          "metadata": {},
          "execution_count": 12
        }
      ]
    },
    {
      "cell_type": "code",
      "source": [
        "time.asctime(time.localtime(time.time()))"
      ],
      "metadata": {
        "colab": {
          "base_uri": "https://localhost:8080/",
          "height": 35
        },
        "id": "JWA6Lf0i4sM4",
        "outputId": "519713e1-0f49-4b71-8912-1d8789f8e2b3"
      },
      "execution_count": null,
      "outputs": [
        {
          "output_type": "execute_result",
          "data": {
            "text/plain": [
              "'Thu Sep  5 06:42:12 2024'"
            ],
            "application/vnd.google.colaboratory.intrinsic+json": {
              "type": "string"
            }
          },
          "metadata": {},
          "execution_count": 16
        }
      ]
    },
    {
      "cell_type": "code",
      "source": [
        "import calendar\n",
        "cal = calendar.calendar(2024)\n",
        "print(cal)"
      ],
      "metadata": {
        "colab": {
          "base_uri": "https://localhost:8080/"
        },
        "id": "O2dWF3_G6yZx",
        "outputId": "fd4ddba2-dbad-4d04-b8bd-31d61b5cbb1c"
      },
      "execution_count": null,
      "outputs": [
        {
          "output_type": "stream",
          "name": "stdout",
          "text": [
            "                                  2024\n",
            "\n",
            "      January                   February                   March\n",
            "Mo Tu We Th Fr Sa Su      Mo Tu We Th Fr Sa Su      Mo Tu We Th Fr Sa Su\n",
            " 1  2  3  4  5  6  7                1  2  3  4                   1  2  3\n",
            " 8  9 10 11 12 13 14       5  6  7  8  9 10 11       4  5  6  7  8  9 10\n",
            "15 16 17 18 19 20 21      12 13 14 15 16 17 18      11 12 13 14 15 16 17\n",
            "22 23 24 25 26 27 28      19 20 21 22 23 24 25      18 19 20 21 22 23 24\n",
            "29 30 31                  26 27 28 29               25 26 27 28 29 30 31\n",
            "\n",
            "       April                      May                       June\n",
            "Mo Tu We Th Fr Sa Su      Mo Tu We Th Fr Sa Su      Mo Tu We Th Fr Sa Su\n",
            " 1  2  3  4  5  6  7             1  2  3  4  5                      1  2\n",
            " 8  9 10 11 12 13 14       6  7  8  9 10 11 12       3  4  5  6  7  8  9\n",
            "15 16 17 18 19 20 21      13 14 15 16 17 18 19      10 11 12 13 14 15 16\n",
            "22 23 24 25 26 27 28      20 21 22 23 24 25 26      17 18 19 20 21 22 23\n",
            "29 30                     27 28 29 30 31            24 25 26 27 28 29 30\n",
            "\n",
            "        July                     August                  September\n",
            "Mo Tu We Th Fr Sa Su      Mo Tu We Th Fr Sa Su      Mo Tu We Th Fr Sa Su\n",
            " 1  2  3  4  5  6  7                1  2  3  4                         1\n",
            " 8  9 10 11 12 13 14       5  6  7  8  9 10 11       2  3  4  5  6  7  8\n",
            "15 16 17 18 19 20 21      12 13 14 15 16 17 18       9 10 11 12 13 14 15\n",
            "22 23 24 25 26 27 28      19 20 21 22 23 24 25      16 17 18 19 20 21 22\n",
            "29 30 31                  26 27 28 29 30 31         23 24 25 26 27 28 29\n",
            "                                                    30\n",
            "\n",
            "      October                   November                  December\n",
            "Mo Tu We Th Fr Sa Su      Mo Tu We Th Fr Sa Su      Mo Tu We Th Fr Sa Su\n",
            "    1  2  3  4  5  6                   1  2  3                         1\n",
            " 7  8  9 10 11 12 13       4  5  6  7  8  9 10       2  3  4  5  6  7  8\n",
            "14 15 16 17 18 19 20      11 12 13 14 15 16 17       9 10 11 12 13 14 15\n",
            "21 22 23 24 25 26 27      18 19 20 21 22 23 24      16 17 18 19 20 21 22\n",
            "28 29 30 31               25 26 27 28 29 30         23 24 25 26 27 28 29\n",
            "                                                    30 31\n",
            "\n"
          ]
        }
      ]
    },
    {
      "cell_type": "markdown",
      "source": [
        "#Set Data Type"
      ],
      "metadata": {
        "id": "yI6IfqjY78pr"
      }
    },
    {
      "cell_type": "code",
      "source": [
        "my_set = set()\n",
        "type(my_set)"
      ],
      "metadata": {
        "colab": {
          "base_uri": "https://localhost:8080/"
        },
        "id": "j3wjBgQj7XED",
        "outputId": "6048277e-436f-44c6-c319-0dfa9e52181e"
      },
      "execution_count": null,
      "outputs": [
        {
          "output_type": "execute_result",
          "data": {
            "text/plain": [
              "set"
            ]
          },
          "metadata": {},
          "execution_count": 24
        }
      ]
    },
    {
      "cell_type": "code",
      "source": [
        "set1 = {1,2,3,4,5,5,5,7,6,8}\n",
        "set1"
      ],
      "metadata": {
        "colab": {
          "base_uri": "https://localhost:8080/"
        },
        "id": "TULnNKzcCKbC",
        "outputId": "c9c1a40f-8776-4238-da1a-299dee77c24a"
      },
      "execution_count": null,
      "outputs": [
        {
          "output_type": "execute_result",
          "data": {
            "text/plain": [
              "{1, 2, 3, 4, 5, 6, 7, 8}"
            ]
          },
          "metadata": {},
          "execution_count": 26
        }
      ]
    },
    {
      "cell_type": "code",
      "source": [
        "len(set1)"
      ],
      "metadata": {
        "colab": {
          "base_uri": "https://localhost:8080/"
        },
        "id": "s6mZpr51CeiD",
        "outputId": "c023eaf0-d73f-462c-a25c-c1e67b270af5"
      },
      "execution_count": null,
      "outputs": [
        {
          "output_type": "execute_result",
          "data": {
            "text/plain": [
              "8"
            ]
          },
          "metadata": {},
          "execution_count": 28
        }
      ]
    },
    {
      "cell_type": "code",
      "source": [
        "set1.add(10)\n",
        "set1"
      ],
      "metadata": {
        "colab": {
          "base_uri": "https://localhost:8080/"
        },
        "id": "vEU4NCqpCstJ",
        "outputId": "0592f02d-9522-42f3-f85a-2b51b9b982cd"
      },
      "execution_count": null,
      "outputs": [
        {
          "output_type": "execute_result",
          "data": {
            "text/plain": [
              "{1, 2, 3, 4, 5, 6, 7, 8, 10}"
            ]
          },
          "metadata": {},
          "execution_count": 33
        }
      ]
    },
    {
      "cell_type": "code",
      "source": [
        "set1.remove(10)\n",
        "set1"
      ],
      "metadata": {
        "colab": {
          "base_uri": "https://localhost:8080/"
        },
        "id": "m3U7DXpVCv5l",
        "outputId": "7eb044dd-ebde-425e-a67a-33a20e4e0c95"
      },
      "execution_count": null,
      "outputs": [
        {
          "output_type": "execute_result",
          "data": {
            "text/plain": [
              "{1, 2, 3, 4, 5, 6, 7, 8}"
            ]
          },
          "metadata": {},
          "execution_count": 34
        }
      ]
    },
    {
      "cell_type": "code",
      "source": [
        "set2 = {\"hey\", \"hello\", \"hi\"}\n",
        "set1 | set2"
      ],
      "metadata": {
        "colab": {
          "base_uri": "https://localhost:8080/"
        },
        "id": "sCLFz_DTCycg",
        "outputId": "fd82a6b8-4398-4d88-b084-934536d650b0"
      },
      "execution_count": null,
      "outputs": [
        {
          "output_type": "execute_result",
          "data": {
            "text/plain": [
              "{1, 2, 3, 4, 5, 6, 7, 8, 'hello', 'hey', 'hi'}"
            ]
          },
          "metadata": {},
          "execution_count": 36
        }
      ]
    },
    {
      "cell_type": "code",
      "source": [
        "setc = set1.copy()\n",
        "setc"
      ],
      "metadata": {
        "colab": {
          "base_uri": "https://localhost:8080/"
        },
        "id": "6m-iokjDDEXi",
        "outputId": "94ab87f9-7ae4-4bea-874c-59bfbe297506"
      },
      "execution_count": null,
      "outputs": [
        {
          "output_type": "execute_result",
          "data": {
            "text/plain": [
              "{1, 2, 3, 4, 5, 6, 7, 8}"
            ]
          },
          "metadata": {},
          "execution_count": 38
        }
      ]
    },
    {
      "cell_type": "markdown",
      "source": [
        "#Iterators"
      ],
      "metadata": {
        "id": "RgVzbpqkFhqn"
      }
    },
    {
      "cell_type": "code",
      "source": [
        "list1 = [1,2,3,4,5]\n",
        "iterator = iter(list1)\n",
        "next(iterator)"
      ],
      "metadata": {
        "colab": {
          "base_uri": "https://localhost:8080/"
        },
        "id": "aNipr03oFj5h",
        "outputId": "197a2b4d-e481-40ff-f0e6-0239c0b2a83f"
      },
      "execution_count": null,
      "outputs": [
        {
          "output_type": "execute_result",
          "data": {
            "text/plain": [
              "1"
            ]
          },
          "metadata": {},
          "execution_count": 42
        }
      ]
    },
    {
      "cell_type": "code",
      "source": [
        "next(iterator)"
      ],
      "metadata": {
        "colab": {
          "base_uri": "https://localhost:8080/"
        },
        "id": "-Seec3FtHKYG",
        "outputId": "342551a4-9d36-4e31-cd05-9732731faa08"
      },
      "execution_count": null,
      "outputs": [
        {
          "output_type": "execute_result",
          "data": {
            "text/plain": [
              "3"
            ]
          },
          "metadata": {},
          "execution_count": 44
        }
      ]
    },
    {
      "cell_type": "code",
      "source": [
        "next(iterator)"
      ],
      "metadata": {
        "colab": {
          "base_uri": "https://localhost:8080/"
        },
        "id": "8vp2okH1HMY9",
        "outputId": "8c96df83-2034-4d6d-a688-069e12462094"
      },
      "execution_count": null,
      "outputs": [
        {
          "output_type": "execute_result",
          "data": {
            "text/plain": [
              "4"
            ]
          },
          "metadata": {},
          "execution_count": 45
        }
      ]
    },
    {
      "cell_type": "code",
      "source": [
        "color = [\"red\", \"green\", \"blue\"]\n"
      ],
      "metadata": {
        "id": "DpVuOpwKHdHU"
      },
      "execution_count": null,
      "outputs": []
    },
    {
      "cell_type": "markdown",
      "source": [
        "#Generators"
      ],
      "metadata": {
        "id": "GuayWwnFtW9D"
      }
    },
    {
      "cell_type": "code",
      "source": [
        "def fib(limit):\n",
        "  a, b = 0, 1\n",
        "  while a < limit:\n",
        "    #print(\"Before yield\")\n",
        "    yield a\n",
        "    #print(\"After yield\")\n",
        "    a, b = b, a+b\n",
        "\n",
        "x = fib(5)"
      ],
      "metadata": {
        "id": "QnVu_-kItZWX"
      },
      "execution_count": null,
      "outputs": []
    },
    {
      "cell_type": "code",
      "source": [
        "next(x)"
      ],
      "metadata": {
        "colab": {
          "base_uri": "https://localhost:8080/"
        },
        "id": "E-BHAmgixOaV",
        "outputId": "740869d3-c86e-47fb-ca3e-cec77021e6fd"
      },
      "execution_count": null,
      "outputs": [
        {
          "output_type": "stream",
          "name": "stdout",
          "text": [
            "After yield\n",
            "Before yield\n"
          ]
        },
        {
          "output_type": "execute_result",
          "data": {
            "text/plain": [
              "1"
            ]
          },
          "metadata": {},
          "execution_count": 13
        }
      ]
    },
    {
      "cell_type": "markdown",
      "source": [
        "REGEX"
      ],
      "metadata": {
        "id": "M_Aj45bYxWpf"
      }
    },
    {
      "cell_type": "code",
      "source": [
        "# ^ -> beginning of the line\n",
        "# $ -> matches the end of the line\n",
        "# . -> matches the single character\n",
        "# [1-9] -> any single character from 1 to 9\n",
        "\n",
        "\"\"\"RE Functions\n",
        "findall()\n",
        "search()\n",
        "split()\n",
        "sub()\n",
        "match()\n",
        "replace()\n",
        "search()\n",
        "\"\"\""
      ],
      "metadata": {
        "colab": {
          "base_uri": "https://localhost:8080/",
          "height": 52
        },
        "id": "rLBERDiOxWEE",
        "outputId": "89e680ff-96fb-4c59-ff66-089b5ee1ae78"
      },
      "execution_count": null,
      "outputs": [
        {
          "output_type": "execute_result",
          "data": {
            "text/plain": [
              "'RE Functions \\nfindall()\\nsearch()\\nsplit()\\nsub()\\nmatch()\\nreplace()\\nsearch()\\n'"
            ],
            "application/vnd.google.colaboratory.intrinsic+json": {
              "type": "string"
            }
          },
          "metadata": {},
          "execution_count": 14
        }
      ]
    },
    {
      "cell_type": "code",
      "source": [
        "import re\n",
        "\n",
        "line = \"pet:cat I love cats\"\n",
        "#match = re.match(pattern, string, <flag=0>)\n",
        "match = re.search(\"cats\", line)\n",
        "if match:\n",
        "  print(\"Match found\")"
      ],
      "metadata": {
        "colab": {
          "base_uri": "https://localhost:8080/"
        },
        "id": "yK2i-Ggu0ZnR",
        "outputId": "e51c5138-bc1e-4cfb-b736-636683af2791"
      },
      "execution_count": null,
      "outputs": [
        {
          "output_type": "stream",
          "name": "stdout",
          "text": [
            "Match found\n"
          ]
        }
      ]
    },
    {
      "cell_type": "markdown",
      "source": [
        "#Recursive Function"
      ],
      "metadata": {
        "id": "b8B9Nk092WoE"
      }
    },
    {
      "cell_type": "code",
      "source": [
        "def counter(c):\n",
        "  if c <= 0:\n",
        "    return c\n",
        "  else:\n",
        "    return c + counter(c-1)\n",
        "\n",
        "counter(5)"
      ],
      "metadata": {
        "colab": {
          "base_uri": "https://localhost:8080/"
        },
        "id": "4RSQ0Ibi2Yk5",
        "outputId": "8553f3b4-8a4f-4bbd-93c6-0a8bec846e93"
      },
      "execution_count": null,
      "outputs": [
        {
          "output_type": "execute_result",
          "data": {
            "text/plain": [
              "15"
            ]
          },
          "metadata": {},
          "execution_count": 17
        }
      ]
    },
    {
      "cell_type": "code",
      "source": [
        "# prompt: write a recursive factorial function\n",
        "\n",
        "def factorial(n):\n",
        "  if n < 0:\n",
        "    return \"The input is negative\"\n",
        "  elif n == 0:\n",
        "    return 1\n",
        "  else:\n",
        "    return n * factorial(n-1)\n"
      ],
      "metadata": {
        "id": "Gruwstj63U8g"
      },
      "execution_count": null,
      "outputs": []
    },
    {
      "cell_type": "code",
      "source": [
        "factorial(5)"
      ],
      "metadata": {
        "colab": {
          "base_uri": "https://localhost:8080/"
        },
        "id": "_IW3UX6g3e8U",
        "outputId": "4c840cef-e862-4d14-f6b5-f48c301db6b2"
      },
      "execution_count": null,
      "outputs": [
        {
          "output_type": "execute_result",
          "data": {
            "text/plain": [
              "120"
            ]
          },
          "metadata": {},
          "execution_count": 25
        }
      ]
    },
    {
      "cell_type": "markdown",
      "source": [
        "# Negative Index in List"
      ],
      "metadata": {
        "id": "V76UFkb24FRB"
      }
    },
    {
      "cell_type": "code",
      "source": [
        "my_list = [1,2,3,4,5]\n",
        "my_list[-1]"
      ],
      "metadata": {
        "colab": {
          "base_uri": "https://localhost:8080/"
        },
        "id": "LMvMgbUg4HXL",
        "outputId": "241ddd59-9303-4db2-ea86-11080f12f3af"
      },
      "execution_count": null,
      "outputs": [
        {
          "output_type": "execute_result",
          "data": {
            "text/plain": [
              "5"
            ]
          },
          "metadata": {},
          "execution_count": 27
        }
      ]
    },
    {
      "cell_type": "markdown",
      "source": [
        "# Looping with Index | Enumerate"
      ],
      "metadata": {
        "id": "fn9kfo8U5rm_"
      }
    },
    {
      "cell_type": "code",
      "source": [
        "color = [\"red\", \"blue\", \"green\"]\n",
        "\n",
        "for i in range(len(color)):\n",
        "  print(i, color[i])"
      ],
      "metadata": {
        "colab": {
          "base_uri": "https://localhost:8080/"
        },
        "id": "kMEq4cdw5yP0",
        "outputId": "e83b18ea-166e-4052-947e-24495bcc1362"
      },
      "execution_count": null,
      "outputs": [
        {
          "output_type": "stream",
          "name": "stdout",
          "text": [
            "0 red\n",
            "1 blue\n",
            "2 green\n"
          ]
        }
      ]
    },
    {
      "cell_type": "code",
      "source": [
        "for index, c in enumerate(color):\n",
        "  print(index, c)"
      ],
      "metadata": {
        "colab": {
          "base_uri": "https://localhost:8080/"
        },
        "id": "e0Pk1Obk6M2H",
        "outputId": "f6fcac8e-8bd6-40cb-86f0-039f918cf86b"
      },
      "execution_count": null,
      "outputs": [
        {
          "output_type": "stream",
          "name": "stdout",
          "text": [
            "0 red\n",
            "1 blue\n",
            "2 green\n"
          ]
        }
      ]
    },
    {
      "cell_type": "markdown",
      "source": [
        "# Range and Xrange function"
      ],
      "metadata": {
        "id": "i36d5AZc60xX"
      }
    },
    {
      "cell_type": "code",
      "source": [
        "#range(start, end, step)\n",
        "#range(1, 6, 2)\n",
        "#xrange(start, end, step)"
      ],
      "metadata": {
        "id": "51HR2yk263sY"
      },
      "execution_count": null,
      "outputs": []
    },
    {
      "cell_type": "code",
      "source": [
        "for i in range(1,6,2):\n",
        "  print(i)"
      ],
      "metadata": {
        "colab": {
          "base_uri": "https://localhost:8080/"
        },
        "id": "t6_gsUmF8Hkr",
        "outputId": "f70754dc-0e97-4882-9817-1b6c7c37efc2"
      },
      "execution_count": null,
      "outputs": [
        {
          "output_type": "stream",
          "name": "stdout",
          "text": [
            "1\n",
            "3\n",
            "5\n"
          ]
        }
      ]
    },
    {
      "cell_type": "code",
      "source": [
        "range(1,6,2)"
      ],
      "metadata": {
        "colab": {
          "base_uri": "https://localhost:8080/"
        },
        "id": "jWCaYHZR9cWp",
        "outputId": "0be2e04a-1d2f-44fe-e466-f7c893519454"
      },
      "execution_count": null,
      "outputs": [
        {
          "output_type": "execute_result",
          "data": {
            "text/plain": [
              "range(1, 6, 2)"
            ]
          },
          "metadata": {},
          "execution_count": 38
        }
      ]
    },
    {
      "cell_type": "markdown",
      "source": [
        "# Input vs raw_input func | python2 | python3"
      ],
      "metadata": {
        "id": "5x2qvbPN-gzw"
      }
    },
    {
      "cell_type": "code",
      "source": [
        "#raw_input is only in python2\n",
        "# it returns a string\n",
        "#unless you do eval(input())\n",
        "\n",
        "#input evaluates the type entered and returns the input in the\n",
        "#form it was entered"
      ],
      "metadata": {
        "id": "De651BBd-nqn"
      },
      "execution_count": null,
      "outputs": []
    },
    {
      "cell_type": "markdown",
      "source": [
        "# Map and Lambda function"
      ],
      "metadata": {
        "id": "0RAYFm1XBB05"
      }
    },
    {
      "cell_type": "code",
      "source": [
        "# A lambda func is also known as anonymous function\n",
        "# it is a function without a name\n",
        "\n",
        "#The syntax of lambda func\n",
        "#lambda arguments: expression\n",
        "\n",
        "#Map function is used to apply a function to all the elements of\n",
        "#a sequence\n",
        "\n",
        "#Syntax of map function\n",
        "#map(function, sequence)\n"
      ],
      "metadata": {
        "id": "QOcCoFN5BHNd"
      },
      "execution_count": null,
      "outputs": []
    },
    {
      "cell_type": "code",
      "source": [
        "a = [1,2,3,4]\n",
        "\n",
        "def square(x):\n",
        "  return x**2\n",
        "\n",
        "list(map(square, a))"
      ],
      "metadata": {
        "colab": {
          "base_uri": "https://localhost:8080/"
        },
        "id": "rYfzTfmlCX2m",
        "outputId": "14446b55-744f-4417-ca21-f5de23f7f9cf"
      },
      "execution_count": null,
      "outputs": [
        {
          "output_type": "execute_result",
          "data": {
            "text/plain": [
              "[1, 4, 9, 16]"
            ]
          },
          "metadata": {},
          "execution_count": 42
        }
      ]
    },
    {
      "cell_type": "code",
      "source": [
        "list(map(lambda x: x*x, a))"
      ],
      "metadata": {
        "colab": {
          "base_uri": "https://localhost:8080/"
        },
        "id": "9xzScx6mC7rB",
        "outputId": "d01bfe52-8875-44c3-c5a1-8905407aa094"
      },
      "execution_count": null,
      "outputs": [
        {
          "output_type": "execute_result",
          "data": {
            "text/plain": [
              "[1, 4, 9, 16]"
            ]
          },
          "metadata": {},
          "execution_count": 44
        }
      ]
    },
    {
      "cell_type": "markdown",
      "source": [
        "#Filter and Reduce Function"
      ],
      "metadata": {
        "id": "HPOqVXa2E25R"
      }
    },
    {
      "cell_type": "code",
      "source": [
        "#Syntax of filter()\n",
        "\n",
        "#filter(function, iterable)\n",
        "\n",
        "list(filter(lambda x: x%2 == 0, range(1,11)))\n",
        "\n",
        "#reduce()\n",
        "#syntax:\n",
        "#reduce(function, iterable)\n",
        "\n",
        "from functools import reduce\n",
        "reduce(lambda x, y: x+y, [1,2,3,4])"
      ],
      "metadata": {
        "colab": {
          "base_uri": "https://localhost:8080/"
        },
        "id": "IolZ78CVE5CD",
        "outputId": "261db5c1-2ffa-46a0-de30-cbf3b2097e80"
      },
      "execution_count": null,
      "outputs": [
        {
          "output_type": "execute_result",
          "data": {
            "text/plain": [
              "10"
            ]
          },
          "metadata": {},
          "execution_count": 48
        }
      ]
    },
    {
      "cell_type": "markdown",
      "source": [
        "# List comprehension definition and Syntax"
      ],
      "metadata": {
        "id": "-F7yOEO_Km7C"
      }
    },
    {
      "cell_type": "code",
      "source": [
        "#Syntax\n",
        "#[expression for item in iterable]\n",
        "#[expression for item in iterable if conditional]\n",
        "#[epression if conditional else statment for item in iterable]\n",
        "#Example below\n",
        "#Basic syntax\n",
        "[x for x in range(1,11)]"
      ],
      "metadata": {
        "colab": {
          "base_uri": "https://localhost:8080/"
        },
        "id": "9pdyhlcqKqhH",
        "outputId": "7867742a-a3ad-46be-b074-7fb5480c74e9"
      },
      "execution_count": null,
      "outputs": [
        {
          "output_type": "execute_result",
          "data": {
            "text/plain": [
              "[1, 2, 3, 4, 5, 6, 7, 8, 9, 10]"
            ]
          },
          "metadata": {},
          "execution_count": 50
        }
      ]
    },
    {
      "cell_type": "code",
      "source": [
        "#Conditional\n",
        "[x for x in range(1,11) if x%2 == 0]"
      ],
      "metadata": {
        "colab": {
          "base_uri": "https://localhost:8080/"
        },
        "id": "By_j4IuBLlcA",
        "outputId": "a97116dc-9d1e-428e-c152-b8c71678f5b4"
      },
      "execution_count": null,
      "outputs": [
        {
          "output_type": "execute_result",
          "data": {
            "text/plain": [
              "[2, 4, 6, 8, 10]"
            ]
          },
          "metadata": {},
          "execution_count": 51
        }
      ]
    },
    {
      "cell_type": "code",
      "source": [
        "#if else cond statement\n",
        "[x if x>2 else x+1 for x in range(1, 11)]"
      ],
      "metadata": {
        "colab": {
          "base_uri": "https://localhost:8080/"
        },
        "id": "SSc6VbUAL1YM",
        "outputId": "617cbfd8-dc15-47c0-c787-ee8324b40c1c"
      },
      "execution_count": null,
      "outputs": [
        {
          "output_type": "execute_result",
          "data": {
            "text/plain": [
              "[2, 3, 3, 4, 5, 6, 7, 8, 9, 10]"
            ]
          },
          "metadata": {},
          "execution_count": 52
        }
      ]
    },
    {
      "cell_type": "markdown",
      "source": [
        "# if __name__ =='__main__'"
      ],
      "metadata": {
        "id": "fAEP9tIqPlPX"
      }
    },
    {
      "cell_type": "code",
      "source": [
        "__name__"
      ],
      "metadata": {
        "colab": {
          "base_uri": "https://localhost:8080/",
          "height": 35
        },
        "id": "xsDIJ2JjPqwj",
        "outputId": "1c11377f-0aab-41d7-cc67-9936c03d92b8"
      },
      "execution_count": null,
      "outputs": [
        {
          "output_type": "execute_result",
          "data": {
            "text/plain": [
              "'__main__'"
            ],
            "application/vnd.google.colaboratory.intrinsic+json": {
              "type": "string"
            }
          },
          "metadata": {},
          "execution_count": 54
        }
      ]
    },
    {
      "cell_type": "code",
      "source": [
        "def mul(a,b):\n",
        "  return a * b\n",
        "\n",
        "if __name__ == '__main__':\n",
        "  print(mul(2,3))"
      ],
      "metadata": {
        "colab": {
          "base_uri": "https://localhost:8080/"
        },
        "id": "sUjwmgumRX6q",
        "outputId": "d004e501-de86-42ae-ba1b-ef7631317d77"
      },
      "execution_count": null,
      "outputs": [
        {
          "output_type": "stream",
          "name": "stdout",
          "text": [
            "6\n"
          ]
        }
      ]
    },
    {
      "cell_type": "markdown",
      "source": [
        "# Bitwise Operators"
      ],
      "metadata": {
        "id": "0YIiTz44SzMK"
      }
    },
    {
      "cell_type": "code",
      "source": [
        "#Unary 0 -> 1; 1 -> 0\n",
        "#Bitwise complement is represented by ~\n",
        "# ~x = -x - 1\n",
        "#e.g ~20 = -20 - 1 which gives -21\n",
        "a = 20\n",
        "~a"
      ],
      "metadata": {
        "colab": {
          "base_uri": "https://localhost:8080/"
        },
        "id": "jeo1SP4qS552",
        "outputId": "dde6348e-7166-44b2-f134-1fb459b2dae1"
      },
      "execution_count": null,
      "outputs": [
        {
          "output_type": "execute_result",
          "data": {
            "text/plain": [
              "-21"
            ]
          },
          "metadata": {},
          "execution_count": 59
        }
      ]
    },
    {
      "cell_type": "code",
      "source": [
        "#Bitwise left shift is represented by <<\n",
        "a = 20\n",
        "a << 2"
      ],
      "metadata": {
        "colab": {
          "base_uri": "https://localhost:8080/"
        },
        "id": "4okepYhlTp7e",
        "outputId": "660a66d8-f743-427b-de7d-c5a9816353b2"
      },
      "execution_count": null,
      "outputs": [
        {
          "output_type": "execute_result",
          "data": {
            "text/plain": [
              "80"
            ]
          },
          "metadata": {},
          "execution_count": 63
        }
      ]
    },
    {
      "cell_type": "code",
      "source": [
        "#Bitwise right shift syntax is >>\n",
        "a = 20\n",
        "a >> 2"
      ],
      "metadata": {
        "colab": {
          "base_uri": "https://localhost:8080/"
        },
        "id": "h6ecvSSvU_Ng",
        "outputId": "b61fcc57-4772-4f4b-88ec-2bcc18836c29"
      },
      "execution_count": null,
      "outputs": [
        {
          "output_type": "execute_result",
          "data": {
            "text/plain": [
              "5"
            ]
          },
          "metadata": {},
          "execution_count": 64
        }
      ]
    },
    {
      "cell_type": "markdown",
      "source": [
        "#Namespace and Variable Scope"
      ],
      "metadata": {
        "id": "juZOX6o4d65O"
      }
    },
    {
      "cell_type": "code",
      "source": [
        "#What is name in python?\n",
        "#We use name to identify an object\n",
        "#That is why they are called identifiers\n",
        "\n",
        "#What is Namespace?\n",
        "#It is a system which will control all the names which we use\n",
        "#in our program\n",
        "\n",
        "#Types of namespace\n",
        "#1. Built-in namespace\n",
        "#2. Global namespace\n",
        "#3. Local\n",
        "\n",
        "#Types of variable scope\n",
        "#1. Global variable\n",
        "#2. Local variable\n",
        "#3. Enclosed\n",
        "#4. Built-in\n"
      ],
      "metadata": {
        "id": "9pbYX4fjd9eT"
      },
      "execution_count": null,
      "outputs": []
    },
    {
      "cell_type": "code",
      "source": [
        "#Global -> Contains names defined at the top level of\n",
        "#the script or module\n",
        "#Local -> Contains names defined inside the current function\n",
        "#Enclosed -> Contains names defined inside any and all enclosed\n",
        "#function\n",
        "#Built-in -> contains names built in to the python language\n"
      ],
      "metadata": {
        "id": "3OpfqJNv0ADm"
      },
      "execution_count": null,
      "outputs": []
    },
    {
      "cell_type": "markdown",
      "source": [
        "# Closures"
      ],
      "metadata": {
        "id": "7leVCPa55UXy"
      }
    },
    {
      "cell_type": "code",
      "source": [
        "#Function object that remembers values in the enclosing scope\n",
        "#even if they are not present in memory\n",
        "#We must have a nested function\n",
        "#Nested func must refer values in enclosing scope\n",
        "#Enclosing func must return nested function\n",
        "\n",
        "#1. Can avoid global values\n",
        "#2. Data hiding\n",
        "#3. Let us implement decorators\n"
      ],
      "metadata": {
        "id": "3aEkN9nP5WD2"
      },
      "execution_count": null,
      "outputs": []
    },
    {
      "cell_type": "markdown",
      "source": [
        "# Decorators"
      ],
      "metadata": {
        "id": "j4Fn3Hk98iL_"
      }
    },
    {
      "cell_type": "code",
      "source": [
        "#What is the meaning of decorator?\n",
        "#Any callable python object that is used to modify a function\n",
        "#or a class\n",
        "\n",
        "#Example\n",
        "def str_upper(func):\n",
        "  def inner():\n",
        "    str1 = func()\n",
        "    return str1.upper()\n",
        "  return inner\n",
        "\n",
        "@str_upper\n",
        "def print_str():\n",
        "  return \"hello\"\n",
        "\n",
        "print_str()"
      ],
      "metadata": {
        "colab": {
          "base_uri": "https://localhost:8080/",
          "height": 35
        },
        "id": "FW6SGOrT8jtt",
        "outputId": "fc9cdf03-c442-41c5-84c3-d48b7c799f03"
      },
      "execution_count": null,
      "outputs": [
        {
          "output_type": "execute_result",
          "data": {
            "text/plain": [
              "'HELLO'"
            ],
            "application/vnd.google.colaboratory.intrinsic+json": {
              "type": "string"
            }
          },
          "metadata": {},
          "execution_count": 4
        }
      ]
    },
    {
      "cell_type": "code",
      "source": [
        "#How to create a decorator\n",
        "#1. Need to take a function as a parameter\n",
        "#2. Add functionality to the function\n",
        "#3. function need to return another function"
      ],
      "metadata": {
        "id": "QUXJ1vJGCIVT"
      },
      "execution_count": null,
      "outputs": []
    },
    {
      "cell_type": "markdown",
      "source": [
        "# Copy"
      ],
      "metadata": {
        "id": "m5IbM3Q88VIe"
      }
    },
    {
      "cell_type": "code",
      "source": [
        "#Immutable -> assignment operator\n",
        "#mutable -> shallow copy\n",
        "#mutable -> deep copy for nested objects(list)\n",
        "\n",
        "#Shallow copy can be done in four different ways listed below\n",
        "#1. Built in function list(), set(), dict()\n",
        "list1 = [1,2,3,4,5]\n",
        "list2 = list(list1)\n",
        "\n",
        "#2. Slicing operator\n",
        "list3 = list1[:]\n",
        "\n",
        "#3. List comperehension\n",
        "list4 = [x for x in list1]\n",
        "# list4\n",
        "\n",
        "#4. Copy from copy module\n",
        "import copy\n",
        "list5 = copy.copy(list1)\n",
        "# list5\n",
        "print(id(list1))\n",
        "print(id(list5))"
      ],
      "metadata": {
        "id": "fefq-qDK8W6x",
        "colab": {
          "base_uri": "https://localhost:8080/"
        },
        "outputId": "0e6d7d79-7a2d-4f68-8d98-e0a427c96346"
      },
      "execution_count": null,
      "outputs": [
        {
          "output_type": "stream",
          "name": "stdout",
          "text": [
            "140505303407232\n",
            "140505303462464\n"
          ]
        }
      ]
    },
    {
      "cell_type": "code",
      "source": [
        "#Deep Copy\n",
        "#Creates a new object and recursively adds the copies of\n",
        "#nested objects present in the original elements\n",
        "deepcopyList = [1,2,3,4,5]\n",
        "import copy\n",
        "copyList = copy.deepcopy(deepcopyList)\n",
        "print(id(deepcopyList))\n",
        "print(id(copyList))"
      ],
      "metadata": {
        "colab": {
          "base_uri": "https://localhost:8080/"
        },
        "id": "z5l5aLvTroFi",
        "outputId": "6f1b380a-6af7-4c88-cf9a-ff1201b8c9fb"
      },
      "execution_count": null,
      "outputs": [
        {
          "output_type": "stream",
          "name": "stdout",
          "text": [
            "140504802051520\n",
            "140504802050304\n"
          ]
        }
      ]
    },
    {
      "cell_type": "markdown",
      "source": [
        "#Property Decorator"
      ],
      "metadata": {
        "id": "FvqGNrvJv0R_"
      }
    },
    {
      "cell_type": "code",
      "source": [
        "#1. Property\n",
        "#Below are user defined\n",
        "#2. Class method\n",
        "#3. Static method\n",
        "\n",
        "class Student:\n",
        "  def __init__(self, name, grade):\n",
        "    self.name = name\n",
        "    self.grade = grade\n",
        "\n",
        "  @property\n",
        "  def msg(self):\n",
        "    return self.name + \" got grade \" + self.grade\n",
        "\n",
        "student1 = Student(\"Physiwell\", \"A\")\n",
        "print(student1.msg)\n",
        "\n",
        "#Property decorator allows us to use a method as attribute\n"
      ],
      "metadata": {
        "colab": {
          "base_uri": "https://localhost:8080/"
        },
        "id": "vRojmRYqv2Ga",
        "outputId": "ff7fcddf-367a-475e-a085-511822311033"
      },
      "execution_count": null,
      "outputs": [
        {
          "output_type": "stream",
          "name": "stdout",
          "text": [
            "Physiwell got grade A\n"
          ]
        }
      ]
    },
    {
      "cell_type": "code",
      "source": [
        "class Student:\n",
        "  def __init__(self, name, grade):\n",
        "    self.name = name\n",
        "    self.grade = grade\n",
        "\n",
        "  @property\n",
        "  def msg(self):\n",
        "    return self.name + \" got grade \" + self.grade\n",
        "\n",
        "  @msg.setter\n",
        "  def msg(self, msg):\n",
        "    sent = msg.split(\" \")\n",
        "    print(sent)\n",
        "    self.name = sent[0]\n",
        "    self.grade = sent[-1]\n",
        "\n",
        "student1 = Student(\"Physiwell\", \"A\")\n",
        "student1.msg = \"Physiwell got grade A\"\n",
        "\n",
        "print(\"name\",student1.name)\n",
        "print(\"Grade\", student1.grade)\n",
        "print(student1.msg)"
      ],
      "metadata": {
        "colab": {
          "base_uri": "https://localhost:8080/"
        },
        "id": "xY9-9gQq1ZWW",
        "outputId": "2a6fb61f-9c7f-4a3f-a655-6c014c89ae7e"
      },
      "execution_count": null,
      "outputs": [
        {
          "output_type": "stream",
          "name": "stdout",
          "text": [
            "['Physiwell', 'got', 'grade', 'A']\n",
            "name Physiwell\n",
            "Grade A\n",
            "Physiwell got grade A\n"
          ]
        }
      ]
    },
    {
      "cell_type": "code",
      "source": [
        "class Student:\n",
        "  def __init__(self, marks):\n",
        "    self.__marks = marks\n",
        "\n",
        "  def percentage(self):\n",
        "    return self.__marks * 100 / 600\n",
        "\n",
        "  def getter(self):\n",
        "    print(\"getting value: \", end=\"\")\n",
        "    return self.__marks\n",
        "\n",
        "  def setter(self, value):\n",
        "    if value < 0 or value > 600:\n",
        "      print(\"Invalid marks\")\n",
        "    else:\n",
        "      self.__marks = value\n",
        "\n",
        "  marks = property(getter, setter)\n",
        "\n",
        "\n",
        "s = Student(400)\n",
        "print(s.percentage())\n",
        "s.marks = 500\n",
        "print(s.percentage())"
      ],
      "metadata": {
        "colab": {
          "base_uri": "https://localhost:8080/"
        },
        "id": "BC4ybH_33yQW",
        "outputId": "b0371bcb-d158-4704-9c48-0e389ce6bf88"
      },
      "execution_count": null,
      "outputs": [
        {
          "output_type": "stream",
          "name": "stdout",
          "text": [
            "66.66666666666667\n",
            "83.33333333333333\n"
          ]
        }
      ]
    }
  ]
}